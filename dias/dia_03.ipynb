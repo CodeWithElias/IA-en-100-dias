{
 "cells": [
  {
   "cell_type": "code",
   "execution_count": 2,
   "id": "d897d353",
   "metadata": {},
   "outputs": [
    {
     "name": "stdout",
     "output_type": "stream",
     "text": [
      "Eres mayor de edad\n"
     ]
    }
   ],
   "source": [
    "edad = int(input(\"Cúantos años tienes: \"))\n",
    "if edad >= 18 :\n",
    "    print(\"Eres mayor de edad\")\n",
    "else :\n",
    "    print(\"Eres menor de edad\")"
   ]
  },
  {
   "cell_type": "code",
   "execution_count": 3,
   "id": "3c3b9d60",
   "metadata": {},
   "outputs": [
    {
     "name": "stdout",
     "output_type": "stream",
     "text": [
      "aprobado\n"
     ]
    }
   ],
   "source": [
    "nota = 85\n",
    "if nota >= 90:\n",
    "    print(\"Excelente\")\n",
    "elif nota >= 70:\n",
    "    print(\"aprobado\")\n",
    "else: \n",
    "    print(\"Reprobado\")"
   ]
  },
  {
   "cell_type": "code",
   "execution_count": 6,
   "id": "98bf3a28",
   "metadata": {},
   "outputs": [
    {
     "name": "stdout",
     "output_type": "stream",
     "text": [
      "Contador:  0\n",
      "Contador:  1\n",
      "Contador:  2\n",
      "Contador:  3\n",
      "Contador:  4\n",
      "Contador:  5\n",
      "Contador:  6\n",
      "Contador:  7\n",
      "Contador:  8\n",
      "Contador:  9\n"
     ]
    }
   ],
   "source": [
    "contador = 0 \n",
    "while contador < 10:\n",
    "    print(\"Contador: \", contador)\n",
    "    contador = contador + 1"
   ]
  },
  {
   "cell_type": "code",
   "execution_count": 8,
   "id": "488ca7ca",
   "metadata": {},
   "outputs": [
    {
     "name": "stdout",
     "output_type": "stream",
     "text": [
      "Iteración 0\n",
      "Iteración 1\n",
      "Iteración 2\n",
      "Iteración 3\n",
      "Iteración 4\n"
     ]
    }
   ],
   "source": [
    "for i in range(5):\n",
    "    print(\"Iteración\", i)"
   ]
  },
  {
   "cell_type": "code",
   "execution_count": 9,
   "id": "bbc79bbf",
   "metadata": {},
   "outputs": [
    {
     "name": "stdout",
     "output_type": "stream",
     "text": [
      "2 es par\n",
      "4 es par\n",
      "6 es par\n",
      "8 es par\n",
      "10 es par\n"
     ]
    }
   ],
   "source": [
    "for i in range(1,11):\n",
    "    if i%2==0:\n",
    "        print(f\"{i} es par\")"
   ]
  },
  {
   "cell_type": "code",
   "execution_count": 11,
   "id": "fa24eecb",
   "metadata": {},
   "outputs": [
    {
     "name": "stdout",
     "output_type": "stream",
     "text": [
      "El número secreto es menor\n",
      "El número secreto es menor\n",
      "El número secreto es menor\n",
      "El número secreto es mayor.\n",
      "El número secreto es menor\n",
      "El número secreto es menor\n",
      "El número secreto es menor\n",
      "¡Correcto! Lo adivinaste en 8 intentos.\n"
     ]
    }
   ],
   "source": [
    "import random\n",
    "\n",
    "numero_secreto = random.randint(1,100)\n",
    "intentos = 0\n",
    "adivinado = False\n",
    "while not adivinado:\n",
    "    intento = int(input(\"Adivina el número del (1-100): \"))\n",
    "    intentos +=1\n",
    "    \n",
    "    if intento == numero_secreto:\n",
    "        print(f\"¡Correcto! Lo adivinaste en {intentos} intentos.\")\n",
    "        adivinado = True\n",
    "    elif intento < numero_secreto:\n",
    "        print(\"El número secreto es mayor.\")\n",
    "    else: \n",
    "        print(\"El número secreto es menor\")"
   ]
  }
 ],
 "metadata": {
  "kernelspec": {
   "display_name": "Python 3",
   "language": "python",
   "name": "python3"
  },
  "language_info": {
   "codemirror_mode": {
    "name": "ipython",
    "version": 3
   },
   "file_extension": ".py",
   "mimetype": "text/x-python",
   "name": "python",
   "nbconvert_exporter": "python",
   "pygments_lexer": "ipython3",
   "version": "3.11.9"
  }
 },
 "nbformat": 4,
 "nbformat_minor": 5
}
